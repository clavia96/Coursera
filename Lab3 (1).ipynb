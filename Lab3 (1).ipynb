{
 "cells": [
  {
   "cell_type": "markdown",
   "metadata": {},
   "source": [
    "<center><img src = \"https://cf-courses-data.s3.us.cloud-object-storage.appdomain.cloud/IBMDeveloperSkillsNetwork-RP0103EN-SkillsNetwork/labs/module%201/images/IDSNlogo.png\" width = 250></center>\n",
    "\n",
    "<h1 align=center><font size = 5>Hands-on Lab: Creating and Querying Database Objects from R</h1>\n"
   ]
  },
  {
   "cell_type": "markdown",
   "metadata": {},
   "source": [
    "<br>\n"
   ]
  },
  {
   "cell_type": "markdown",
   "metadata": {},
   "source": [
    "### Welcome!\n"
   ]
  },
  {
   "cell_type": "markdown",
   "metadata": {},
   "source": [
    "In this hands-on lab, we will create and query database objects from an R notebook in Jupyter, and use ggplot2 to plot the data using R libraries.\n"
   ]
  },
  {
   "cell_type": "markdown",
   "metadata": {},
   "source": [
    "<div class=\"alert alert-block alert-info\" style=\"margin-top: 20px\">\n",
    "<h3>Tasks</h3>\n",
    "<ol><ol><ol>\n",
    "<li><a href=\"#ref4a\">Pre-requisites & Dataset</a></li>\n",
    "<li><a href=\"#ref4b\">Load RODBC</a></li>\n",
    "<li><a href=\"#ref4c\">Create a database connection</a></li>\n",
    "<li><a href=\"#ref4d\">Create a connection string and connect to the database</a></li>\n",
    "<li><a href=\"#ref4e\">View database and driver information</a></li>\n",
    "<li><a href=\"#ref4f\">Create the tables</a></li>\n",
    "<li><a href=\"#ref4g\">Load data into the database</a></li>\n",
    "<li><a href=\"#ref4h\">Fetch data from the database</a></li>\n",
    "<li><a href=\"#ref4i\">Plot the data (using ggplot2)</a></li>\n",
    "<li><a href=\"#ref4j\">Dis-connect</a></li>\n",
    "</ol></ol></ol>\n",
    "<br>\n",
    "Estimated Time Needed: <strong>30 min</strong>\n",
    "</div>\n"
   ]
  },
  {
   "cell_type": "markdown",
   "metadata": {},
   "source": [
    "<a id=\"ref4a\"></a>\n",
    "\n",
    "### a. Pre-requisites & Dataset\n",
    "\n",
    "**Pre-requisite**: In this lab we will use Jupyter Notebooks within SN Labs to access data in a Db2 on Cloud database using RODBC.  Information about Jupyter notebooks, SN Labs, and Db2 services is provided in the previous labs.\n",
    "\n",
    "**Dataset used in this lab**: For this lab we will utilize the Ontario public schools enrollment dataset. This data set is available under the Open Government License – Ontario and sourced from: [https://www.ontario.ca/data/ontario-public-schools-enrolment](https://www.ontario.ca/data/ontario-public-schools-enrolment?utm_medium=Exinfluencer\\&utm_source=Exinfluencer\\&utm_content=000026UJ\\&utm_term=10006555\\&utm_id=NA-SkillsNetwork-Channel-SkillsNetworkCoursesIBMDeveloperSkillsNetworkRP0103ENSkillsNetwork23619267-2021-01-01\\&cm_mmc=Email_Newsletter-\\_-Developer_Ed%2BTech-\\_-WW_WW-\\_-SkillsNetwork-Courses-IBMDeveloperSkillsNetwork-RP0103EN-SkillsNetwork-23619267\\&cm_mmca1=000026UJ\\&cm_mmca2=10006555\\&cm_mmca3=M12345678\\&cvosrc=email.Newsletter.M12345678\\&cvo_campaign=000026UJ)\n",
    "\n",
    "For simplicity we have already split it into two separate files: [board.csv](https://cf-courses-data.s3.us.cloud-object-storage.appdomain.cloud/IBMDeveloperSkillsNetwork-RP0103EN-SkillsNetwork/labs/Lab%20-%20Creating%20and%20Querying%20Database%20Objects%20from%20R/board.csv) and [school.csv](https://cf-courses-data.s3.us.cloud-object-storage.appdomain.cloud/IBMDeveloperSkillsNetwork-RP0103EN-SkillsNetwork/labs/Lab%20-%20Creating%20and%20Querying%20Database%20Objects%20from%20R/school.csv).\n",
    "\n",
    "Prior to starting the lab, ensure the data set files are present in the \"/resources/data/samples/osb/\" folder under My Data.\n"
   ]
  },
  {
   "cell_type": "markdown",
   "metadata": {},
   "source": [
    "<a id=\"ref4b\"></a>\n",
    "\n",
    "### b. Load RODBC\n",
    "\n",
    "The RODBC package and the ODBC driver for Db2 are pre-installed on your workbench. Let’s load the RODBC package by clicking on the following cell and executing it (Shift+Enter):\n"
   ]
  },
  {
   "cell_type": "code",
   "execution_count": 2,
   "metadata": {},
   "outputs": [],
   "source": [
    "library(RODBC);"
   ]
  },
  {
   "cell_type": "markdown",
   "metadata": {},
   "source": [
    "<a id=\"ref4c\"></a>\n",
    "\n",
    "### c. Create a database connection\n"
   ]
  },
  {
   "cell_type": "code",
   "execution_count": 3,
   "metadata": {},
   "outputs": [],
   "source": [
    "dsn_driver = \"{IBM DB2 ODBC Driver}\"\n",
    "dsn_database = \"bludb\"            \n",
    "dsn_hostname = \"125f9f61-9715-46f9-9399-c8177b21803b.c1ogj3sd0tgtu0lqde00.databases.appdomain.cloud\"  \n",
    "dsn_port = \"30426\"               \n",
    "dsn_protocol = \"TCPIP\"           \n",
    "dsn_uid = \"zsc12449\"        \n",
    "dsn_pwd = \"1vGspy84wNZupcNu\"  \n",
    "dsn_security <- \"ssl\""
   ]
  },
  {
   "cell_type": "markdown",
   "metadata": {},
   "source": [
    "<details>\n",
    "<summary>Click here to view/hide hint</summary>\n",
    "<p>\n",
    "\n",
    "```\n",
    "# Fill in the <...>\n",
    "dsn_driver <- \"{...}\"\n",
    "dsn_database <- \"...\"            \n",
    "dsn_hostname <- \"<Enter Hostname>\" \n",
    "dsn_port <- \"...\"                \n",
    "dsn_protocol <- \"...\"            \n",
    "dsn_uid <- \"<Enter UserID>\"        \n",
    "dsn_pwd <- \"<Enter Password>\" \n",
    "dsn_security <- \"ssl\"\n",
    "           \n",
    "```\n",
    "\n",
    "</details>\n"
   ]
  },
  {
   "cell_type": "markdown",
   "metadata": {},
   "source": [
    "<details>\n",
    "<summary>Click here to view/hide solution</summary>\n",
    "<p>\n",
    "\n",
    "```\n",
    "dsn_driver <- \"{IBM DB2 ODBC Driver}\"\n",
    "dsn_database <- \"bludb\"            # e.g. \"bludb\"\n",
    "dsn_hostname <- \"<Enter Hostname>\" # e.g \"54a2f15b-5c0f-46df-8954-.databases.appdomain.cloud\"\n",
    "dsn_port <- \"<Enter port number\"   # e.g. \"32733\" \n",
    "dsn_protocol <- \"TCPIP\"            # i.e. \"TCPIP\"\n",
    "dsn_uid <- \"<Enter UserID>\"        # e.g. \"zjh17769\"\n",
    "dsn_pwd <- \"<Enter Password>\"      # e.g. \"zcwd4+8gbq9bm5k4\"  \n",
    "dsn_security <- \"ssl\"\n",
    "```\n",
    "\n",
    "</details>\n"
   ]
  },
  {
   "cell_type": "markdown",
   "metadata": {},
   "source": [
    "<a id=\"ref4d\"></a>\n",
    "\n",
    "### d. Create a connection string and connect to the database\n"
   ]
  },
  {
   "cell_type": "code",
   "execution_count": 4,
   "metadata": {},
   "outputs": [
    {
     "data": {
      "text/plain": [
       "RODBC Connection 1\n",
       "Details:\n",
       "  case=nochange\n",
       "  DRIVER={IBM DB2 ODBC DRIVER}\n",
       "  UID=zsc12449\n",
       "  PWD=******\n",
       "  DATABASE=bludb\n",
       "  HOSTNAME=125f9f61-9715-46f9-9399-c8177b21803b.c1ogj3sd0tgtu0lqde00.databases.appdomain.cloud\n",
       "  PORT=30426\n",
       "  PROTOCOL=TCPIP\n",
       "  SECURITY=SSL"
      ]
     },
     "metadata": {},
     "output_type": "display_data"
    }
   ],
   "source": [
    "conn_path <- paste(\"DRIVER=\",dsn_driver,\n",
    "                  \";DATABASE=\",dsn_database,\n",
    "                  \";HOSTNAME=\",dsn_hostname,\n",
    "                  \";PORT=\",dsn_port,\n",
    "                  \";PROTOCOL=\",dsn_protocol,\n",
    "                  \";UID=\",dsn_uid,\n",
    "                  \";PWD=\",dsn_pwd,\n",
    "                  \";SECURITY=\",dsn_security,        \n",
    "                    sep=\"\")\n",
    "conn <- odbcDriverConnect(conn_path)\n",
    "conn"
   ]
  },
  {
   "cell_type": "markdown",
   "metadata": {},
   "source": [
    "<details>\n",
    "<summary>Click here to view/hide hint</summary>\n",
    "<p>\n",
    "\n",
    "```\n",
    "# Fill in the ...\n",
    "conn_path <- paste(\"DRIVER=\",...\n",
    "                  \";DATABASE=\",...\n",
    "                  \";HOSTNAME=\",...\n",
    "                  \";PORT=\",...\n",
    "                  \";PROTOCOL=\",...\n",
    "                  \";UID=\",...\n",
    "                  \";PWD=\",...\"\n",
    "                  \";SECURITY=\",...\")\n",
    "conn <- odbcDriverConnect(conn_path)\n",
    "conn\n",
    "```\n",
    "\n",
    "</details>\n"
   ]
  },
  {
   "cell_type": "markdown",
   "metadata": {},
   "source": [
    "<details>\n",
    "<summary>Click here to view/hide solution</summary>\n",
    "<p>\n",
    "\n",
    "```\n",
    "conn_path <- paste(\"DRIVER=\",dsn_driver,\n",
    "                  \";DATABASE=\",dsn_database,\n",
    "                  \";HOSTNAME=\",dsn_hostname,\n",
    "                  \";PORT=\",dsn_port,\n",
    "                  \";PROTOCOL=\",dsn_protocol,\n",
    "                  \";UID=\",dsn_uid,\n",
    "                  \";PWD=\",dsn_pwd,\n",
    "                  \";SECURITY=\",dsn_security,        \n",
    "                    sep=\"\")\n",
    "conn <- odbcDriverConnect(conn_path)\n",
    "conn\n",
    "```\n",
    "\n",
    "</div>\n"
   ]
  },
  {
   "cell_type": "markdown",
   "metadata": {},
   "source": [
    "<a id=\"ref4e\"></a>\n",
    "\n",
    "### e. View database and driver information\n"
   ]
  },
  {
   "cell_type": "code",
   "execution_count": 5,
   "metadata": {},
   "outputs": [
    {
     "data": {
      "text/html": [
       "<strong>DBMS_Name:</strong> 'DB2/LINUXX8664'"
      ],
      "text/latex": [
       "\\textbf{DBMS\\textbackslash{}\\_Name:} 'DB2/LINUXX8664'"
      ],
      "text/markdown": [
       "**DBMS_Name:** 'DB2/LINUXX8664'"
      ],
      "text/plain": [
       "       DBMS_Name \n",
       "\"DB2/LINUXX8664\" "
      ]
     },
     "metadata": {},
     "output_type": "display_data"
    },
    {
     "data": {
      "text/html": [
       "<strong>DBMS_Ver:</strong> '11.05.0600'"
      ],
      "text/latex": [
       "\\textbf{DBMS\\textbackslash{}\\_Ver:} '11.05.0600'"
      ],
      "text/markdown": [
       "**DBMS_Ver:** '11.05.0600'"
      ],
      "text/plain": [
       "    DBMS_Ver \n",
       "\"11.05.0600\" "
      ]
     },
     "metadata": {},
     "output_type": "display_data"
    },
    {
     "data": {
      "text/html": [
       "<strong>Driver_ODBC_Ver:</strong> '03.51'"
      ],
      "text/latex": [
       "\\textbf{Driver\\textbackslash{}\\_ODBC\\textbackslash{}\\_Ver:} '03.51'"
      ],
      "text/markdown": [
       "**Driver_ODBC_Ver:** '03.51'"
      ],
      "text/plain": [
       "Driver_ODBC_Ver \n",
       "        \"03.51\" "
      ]
     },
     "metadata": {},
     "output_type": "display_data"
    }
   ],
   "source": [
    "#View database and driver information\n",
    "sql.info <- sqlTypeInfo(conn)\n",
    "conn.info <- odbcGetInfo(conn)\n",
    "conn.info[\"DBMS_Name\"]\n",
    "conn.info[\"DBMS_Ver\"]\n",
    "conn.info[\"Driver_ODBC_Ver\"]"
   ]
  },
  {
   "cell_type": "markdown",
   "metadata": {},
   "source": [
    "<details>\n",
    "<summary>Click here to view/hide hint</summary>\n",
    "<p>\n",
    "\n",
    "```\n",
    "# Fill in the ...\n",
    "sql.... <- sql...(conn)\n",
    "conn.... <- odbc...(conn)\n",
    "conn....[\"..._Name\"]\n",
    "conn....[\"..._Ver\"]\n",
    "conn....[\"Driver_..._Ver\"]\n",
    "conn\n",
    "```\n",
    "\n",
    "</details>\n"
   ]
  },
  {
   "cell_type": "markdown",
   "metadata": {},
   "source": [
    "<details>\n",
    "<summary>Click here to view/hide solution</summary>\n",
    "<p>\n",
    "\n",
    "```\n",
    "#View database and driver information\n",
    "sql.info <- sqlTypeInfo(conn)\n",
    "conn.info <- odbcGetInfo(conn)\n",
    "conn.info[\"DBMS_Name\"]\n",
    "conn.info[\"DBMS_Ver\"]\n",
    "conn.info[\"Driver_ODBC_Ver\"]\n",
    "```\n",
    "\n",
    "</details>\n"
   ]
  },
  {
   "cell_type": "markdown",
   "metadata": {},
   "source": [
    "<a id=\"ref4f\"></a>\n",
    "\n",
    "### f. Create the tables\n",
    "\n",
    "You will need to *remove* the BOARD and SCHOOL tables in case they already exist. <br>\n",
    "**Note: Your Db2 non-system Schema name is your userID/username in uppercase used in creating database connection.**\n"
   ]
  },
  {
   "cell_type": "code",
   "execution_count": 6,
   "metadata": {
    "collapsed": false,
    "jupyter": {
     "outputs_hidden": false
    }
   },
   "outputs": [
    {
     "name": "stdout",
     "output_type": "stream",
     "text": [
      "Table:  ZSC12449 . BOARD10  was dropped\n",
      "Table:  ZSC12449 . SCHOOL10  was dropped\n"
     ]
    }
   ],
   "source": [
    "myschema <- \"ZSC12449\" # e.g. \"ZJH17769\"\n",
    "tables <- c(\"BOARD10\", \"SCHOOL10\")\n",
    "    \n",
    "    for (table in tables){  \n",
    "      # Drop School table if it already exists\n",
    "      out <- sqlTables(conn, tableType = \"TABLE\", schema = myschema, tableName =table)\n",
    "      if (nrow(out)>0) {\n",
    "        err <- sqlDrop (conn, paste(myschema,\".\",table,sep=\"\"), errors=FALSE)  \n",
    "        if (err==-1){\n",
    "          cat(\"An error has occurred.\\n\")\n",
    "          err.msg <- odbcGetErrMsg(conn)\n",
    "          for (error in err.msg) {\n",
    "            cat(error,\"\\n\")\n",
    "          }\n",
    "        } else {\n",
    "          cat (\"Table: \",  myschema,\".\",table,\" was dropped\\n\")\n",
    "        }\n",
    "      } else {\n",
    "          cat (\"Table: \",  myschema,\".\",table,\" does not exist\\n\")\n",
    "      }\n",
    "    }"
   ]
  },
  {
   "cell_type": "markdown",
   "metadata": {},
   "source": [
    "<details>\n",
    "<summary>Click here to view/hide hint</summary>\n",
    "<p>\n",
    "\n",
    "```\n",
    "myschema <- \"...\"\n",
    "tables <- c(\"...\", \"...L\")\n",
    "    \n",
    "    for (table in ...){  \n",
    "      # Drop ... table if it already exists\n",
    "      out <- sql...(conn, table... = \"...\", schema = my..., ...Name =table)\n",
    "      if (nrow(...)>0) {\n",
    "        err <- sql... (conn, paste(my...,\".\",...,...=\"\"), errors=...)  \n",
    "        if (err==-1){\n",
    "          ...(\"An error has occurred.\\n\")\n",
    "          err.... <- odbc...Msg(conn)\n",
    "          for (error in ....msg) {\n",
    "            cat(...,\"\\n\")\n",
    "          }\n",
    "        } else {\n",
    "          cat (\"...: \",  my...,\".\",table,\" was ...\\n\")\n",
    "        }\n",
    "      } else {\n",
    "          cat (\"...: \",  my...,\".\",table,\" does not ...\\n\")\n",
    "      }\n",
    "    }\n",
    "```\n",
    "\n",
    "</details>\n"
   ]
  },
  {
   "cell_type": "markdown",
   "metadata": {},
   "source": [
    "<details>\n",
    "<summary>Click here to view/hide solution</summary>\n",
    "<p>\n",
    "\n",
    "```\n",
    "myschema <- \"<Enter Schema>\" # e.g. \"ZJH17769\"\n",
    "tables <- c(\"BOARD\", \"SCHOOL\")\n",
    "    \n",
    "    for (table in tables){  \n",
    "      # Drop School table if it already exists\n",
    "      out <- sqlTables(conn, tableType = \"TABLE\", schema = myschema, tableName =table)\n",
    "      if (nrow(out)>0) {\n",
    "        err <- sqlDrop (conn, paste(myschema,\".\",table,sep=\"\"), errors=FALSE)  \n",
    "        if (err==-1){\n",
    "          cat(\"An error has occurred.\\n\")\n",
    "          err.msg <- odbcGetErrMsg(conn)\n",
    "          for (error in err.msg) {\n",
    "            cat(error,\"\\n\")\n",
    "          }\n",
    "        } else {\n",
    "          cat (\"Table: \",  myschema,\".\",table,\" was dropped\\n\")\n",
    "        }\n",
    "      } else {\n",
    "          cat (\"Table: \",  myschema,\".\",table,\" does not exist\\n\")\n",
    "      }\n",
    "    }\n",
    "```\n",
    "\n",
    "</details>\n"
   ]
  },
  {
   "cell_type": "markdown",
   "metadata": {},
   "source": [
    "Let’s create the BOARD table in the database.\n"
   ]
  },
  {
   "cell_type": "code",
   "execution_count": 7,
   "metadata": {},
   "outputs": [],
   "source": [
    "df1 <- sqlQuery(conn, \"CREATE TABLE BOARD10 (\n",
    "                            B_ID CHAR(6) NOT NULL, \n",
    "                            B_NAME VARCHAR(75) NOT NULL, \n",
    "                            TYPE VARCHAR(50) NOT NULL, \n",
    "                            LANGUAGE VARCHAR(50), \n",
    "                            PRIMARY KEY (B_ID))\", \n",
    "                errors=FALSE)"
   ]
  },
  {
   "cell_type": "markdown",
   "metadata": {},
   "source": [
    "<details>\n",
    "<summary>Click here to view/hide hint</summary>\n",
    "<p>\n",
    "\n",
    "```\n",
    "# Fill in the ...\n",
    "df1 <- sql...(conn, \"CREATE ... BOARD (\n",
    "                            B_ID ...(6) NOT ..., \n",
    "                            B_NAME ...(75) NOT ..., \n",
    "                            TYPE ...(50) NOT ..., \n",
    "                            LANGUAGE ...(50), \n",
    "                            ... KEY (B_ID))\", \n",
    "                ...=FALSE)\n",
    "```\n",
    "\n",
    "</details>\n"
   ]
  },
  {
   "cell_type": "markdown",
   "metadata": {},
   "source": [
    "<details>\n",
    "<summary>Click here to view/hide solution</summary>\n",
    "<p>\n",
    "\n",
    "```\n",
    "df1 <- sqlQuery(conn, \"CREATE TABLE BOARD (\n",
    "                            B_ID CHAR(6) NOT NULL, \n",
    "                            B_NAME VARCHAR(75) NOT NULL, \n",
    "                            TYPE VARCHAR(50) NOT NULL, \n",
    "                            LANGUAGE VARCHAR(50), \n",
    "                            PRIMARY KEY (B_ID))\", \n",
    "                errors=FALSE)\n",
    "```\n",
    "\n",
    "</details>\n"
   ]
  },
  {
   "cell_type": "markdown",
   "metadata": {},
   "source": [
    "Check if successful\n"
   ]
  },
  {
   "cell_type": "code",
   "execution_count": 8,
   "metadata": {},
   "outputs": [
    {
     "name": "stdout",
     "output_type": "stream",
     "text": [
      "Table was created successfully.\n"
     ]
    }
   ],
   "source": [
    "if (df1 == -1){\n",
    "  cat (\"An error has occurred.\\n\")\n",
    "  msg <- odbcGetErrMsg(conn)\n",
    "  print (msg)\n",
    "} else {\n",
    "  cat (\"Table was created successfully.\\n\")\n",
    "}"
   ]
  },
  {
   "cell_type": "markdown",
   "metadata": {},
   "source": [
    "<details>\n",
    "<summary>Click here to view/hide hint</summary>\n",
    "<p>\n",
    "\n",
    "```\n",
    "# Fill in the ...\n",
    "if (... == -1){\n",
    "  cat (\"An ... has occurred.\\n\")\n",
    "  msg <- odbc...Msg(conn)\n",
    "  print (...)\n",
    "} else {\n",
    "  cat (\"Table was ... ....\\n\")\n",
    "}\n",
    "```\n",
    "\n",
    "</details>\n"
   ]
  },
  {
   "cell_type": "markdown",
   "metadata": {},
   "source": [
    "<details>\n",
    "<summary>Click here to view/hide solution</summary>\n",
    "<p>\n",
    "\n",
    "```\n",
    "if (df1 == -1){\n",
    "  cat (\"An error has occurred.\\n\")\n",
    "  msg <- odbcGetErrMsg(conn)\n",
    "  print (msg)\n",
    "} else {\n",
    "  cat (\"Table was created successfully.\\n\")\n",
    "}\n",
    "```\n",
    "\n",
    "</details>\n"
   ]
  },
  {
   "cell_type": "markdown",
   "metadata": {},
   "source": [
    "Now let’s create the SCHOOL table.\n"
   ]
  },
  {
   "cell_type": "code",
   "execution_count": 9,
   "metadata": {},
   "outputs": [],
   "source": [
    "df2 <- sqlQuery(conn, \"CREATE TABLE SCHOOL10 (\n",
    "                  B_ID CHAR(6) NOT NULL, \n",
    "                  S_ID CHAR(6) NOT NULL, \n",
    "                  S_NAME VARCHAR(100), \n",
    "                  LEVEL VARCHAR(70), \n",
    "                  ENROLLMENT INTEGER WITH DEFAULT 10,\n",
    "                  PRIMARY KEY (B_ID, S_ID))\", \n",
    "errors=FALSE)"
   ]
  },
  {
   "cell_type": "markdown",
   "metadata": {},
   "source": [
    "<details>\n",
    "<summary>Click here to view/hide hint</summary>\n",
    "<p>\n",
    "\n",
    "```\n",
    "# Fill in the ...\n",
    "df2 <- sql...(conn, \"CREATE ... SCHOOL (\n",
    "                  B_ID ...(6) NOT NULL, \n",
    "                  S_ID ...(6) NOT NULL, \n",
    "                  S_NAME ...(100), \n",
    "                  LEVEL ...(70), \n",
    "                  ENROLLMENT ... WITH ... 10,\n",
    "                  PRIMARY ... (B_ID, S_ID))\", ...=FALSE)\n",
    "```\n",
    "\n",
    "</details>\n"
   ]
  },
  {
   "cell_type": "markdown",
   "metadata": {},
   "source": [
    "<details>\n",
    "<summary>Click here to view/hide solution</summary>\n",
    "<p>\n",
    "\n",
    "```\n",
    "df2 <- sqlQuery(conn, \"CREATE TABLE SCHOOL (\n",
    "                  B_ID CHAR(6) NOT NULL, \n",
    "                  S_ID CHAR(6) NOT NULL, \n",
    "                  S_NAME VARCHAR(100), \n",
    "                  LEVEL VARCHAR(70), \n",
    "                  ENROLLMENT INTEGER WITH DEFAULT 10,\n",
    "                  PRIMARY KEY (B_ID, S_ID))\", errors=FALSE)\n",
    "```\n",
    "\n",
    "</details>\n"
   ]
  },
  {
   "cell_type": "markdown",
   "metadata": {},
   "source": [
    "Check if successful.\n"
   ]
  },
  {
   "cell_type": "code",
   "execution_count": 10,
   "metadata": {},
   "outputs": [
    {
     "name": "stdout",
     "output_type": "stream",
     "text": [
      "Table was created successfully.\n"
     ]
    }
   ],
   "source": [
    "if (df2 == -1){\n",
    "  cat (\"An error has occurred.\\n\")\n",
    "  msg <- odbcGetErrMsg(conn)\n",
    "  print (msg)\n",
    "} else {\n",
    "  cat (\"Table was created successfully.\\n\")\n",
    "}"
   ]
  },
  {
   "cell_type": "markdown",
   "metadata": {},
   "source": [
    "<details>\n",
    "<summary>Click here to view/hide hint</summary>\n",
    "<p>\n",
    "\n",
    "```\n",
    "# Fill in the ...\n",
    "if (... == -1){\n",
    "  cat (\"An ... has occurred.\\n\")\n",
    "  msg <- odbc...Msg(conn)\n",
    "  print (...)\n",
    "} else {\n",
    "  cat (\"Table was ... ....\\n\")\n",
    "}\n",
    "```\n",
    "\n",
    "</details>\n"
   ]
  },
  {
   "cell_type": "markdown",
   "metadata": {},
   "source": [
    "<details>\n",
    "<summary>Click here to view/hide solution</summary>\n",
    "<p>\n",
    "\n",
    "```\n",
    "if (df2 == -1){\n",
    "  cat (\"An error has occurred.\\n\")\n",
    "  msg <- odbcGetErrMsg(conn)\n",
    "  print (msg)\n",
    "} else {\n",
    "  cat (\"Table was created successfully.\\n\")\n",
    "}\n",
    "```\n",
    "\n",
    "</details>\n"
   ]
  },
  {
   "cell_type": "markdown",
   "metadata": {},
   "source": [
    "<a id=\"ref4g\"></a>\n",
    "\n",
    "### g. Load the data into the database\n"
   ]
  },
  {
   "cell_type": "markdown",
   "metadata": {},
   "source": [
    "Fetch the tables present in the current database schema.\n"
   ]
  },
  {
   "cell_type": "code",
   "execution_count": 11,
   "metadata": {},
   "outputs": [
    {
     "data": {
      "text/html": [
       "13"
      ],
      "text/latex": [
       "13"
      ],
      "text/markdown": [
       "13"
      ],
      "text/plain": [
       "[1] 13"
      ]
     },
     "metadata": {},
     "output_type": "display_data"
    },
    {
     "data": {
      "text/html": [
       "<style>\n",
       ".list-inline {list-style: none; margin:0; padding: 0}\n",
       ".list-inline>li {display: inline-block}\n",
       ".list-inline>li:not(:last-child)::after {content: \"\\00b7\"; padding: 0 .5ex}\n",
       "</style>\n",
       "<ol class=list-inline><li>'BOARD'</li><li>'BOARD10'</li><li>'CROP_DATA'</li><li>'DAILY_FX'</li><li>'DEPARTMENTS'</li><li>'EMPLOYEES'</li><li>'JOBS'</li><li>'JOB_HISTORY'</li><li>'LOCATIONS'</li><li>'PETRESCUE'</li><li>'PETSALE'</li><li>'SCHOOL'</li><li>'SCHOOL10'</li></ol>\n"
      ],
      "text/latex": [
       "\\begin{enumerate*}\n",
       "\\item 'BOARD'\n",
       "\\item 'BOARD10'\n",
       "\\item 'CROP\\_DATA'\n",
       "\\item 'DAILY\\_FX'\n",
       "\\item 'DEPARTMENTS'\n",
       "\\item 'EMPLOYEES'\n",
       "\\item 'JOBS'\n",
       "\\item 'JOB\\_HISTORY'\n",
       "\\item 'LOCATIONS'\n",
       "\\item 'PETRESCUE'\n",
       "\\item 'PETSALE'\n",
       "\\item 'SCHOOL'\n",
       "\\item 'SCHOOL10'\n",
       "\\end{enumerate*}\n"
      ],
      "text/markdown": [
       "1. 'BOARD'\n",
       "2. 'BOARD10'\n",
       "3. 'CROP_DATA'\n",
       "4. 'DAILY_FX'\n",
       "5. 'DEPARTMENTS'\n",
       "6. 'EMPLOYEES'\n",
       "7. 'JOBS'\n",
       "8. 'JOB_HISTORY'\n",
       "9. 'LOCATIONS'\n",
       "10. 'PETRESCUE'\n",
       "11. 'PETSALE'\n",
       "12. 'SCHOOL'\n",
       "13. 'SCHOOL10'\n",
       "\n",
       "\n"
      ],
      "text/plain": [
       " [1] \"BOARD\"       \"BOARD10\"     \"CROP_DATA\"   \"DAILY_FX\"    \"DEPARTMENTS\"\n",
       " [6] \"EMPLOYEES\"   \"JOBS\"        \"JOB_HISTORY\" \"LOCATIONS\"   \"PETRESCUE\"  \n",
       "[11] \"PETSALE\"     \"SCHOOL\"      \"SCHOOL10\"   "
      ]
     },
     "metadata": {},
     "output_type": "display_data"
    }
   ],
   "source": [
    "tab.frame <- sqlTables(conn, schema=myschema)\n",
    "nrow(tab.frame)\n",
    "tab.frame$TABLE_NAME"
   ]
  },
  {
   "cell_type": "markdown",
   "metadata": {},
   "source": [
    "<details>\n",
    "<summary>Click here to view/hide hint</summary>\n",
    "<p>\n",
    "\n",
    "```\n",
    "# Fill in the ...\n",
    "tab.... <- sql...(conn, ...=myschema)\n",
    "n...(tab....)\n",
    "tab....$..._NAME\n",
    "```\n",
    "\n",
    "</details>\n"
   ]
  },
  {
   "cell_type": "markdown",
   "metadata": {},
   "source": [
    "<details>\n",
    "<summary>Click here to view/hide solution</summary>\n",
    "<p>\n",
    "\n",
    "```\n",
    "tab.frame <- sqlTables(conn, schema=myschema)\n",
    "nrow(tab.frame)\n",
    "tab.frame$TABLE_NAME\n",
    "```\n",
    "\n",
    "</details>\n"
   ]
  },
  {
   "cell_type": "markdown",
   "metadata": {},
   "source": [
    "Print column 4, 6, 7, 18 details for the tables BOARD and SCHOOL\n"
   ]
  },
  {
   "cell_type": "code",
   "execution_count": 12,
   "metadata": {},
   "outputs": [
    {
     "name": "stdout",
     "output_type": "stream",
     "text": [
      "\n",
      "Column info for table BOARD10 :\n",
      " COLUMN_NAME TYPE_NAME COLUMN_SIZE IS_NULLABLE\n",
      "        B_ID      CHAR           6          NO\n",
      "      B_NAME   VARCHAR          75          NO\n",
      "        TYPE   VARCHAR          50          NO\n",
      "    LANGUAGE   VARCHAR          50         YES\n",
      "\n",
      "Column info for table SCHOOL10 :\n",
      " COLUMN_NAME TYPE_NAME COLUMN_SIZE IS_NULLABLE\n",
      "        B_ID      CHAR           6          NO\n",
      "        S_ID      CHAR           6          NO\n",
      "      S_NAME   VARCHAR         100         YES\n",
      "       LEVEL   VARCHAR          70         YES\n",
      "  ENROLLMENT   INTEGER          10         YES\n"
     ]
    }
   ],
   "source": [
    "for (table in tables){  \n",
    "        cat (\"\\nColumn info for table\", table, \":\\n\")\n",
    "        col.detail <- sqlColumns(conn, table)\n",
    "        print(col.detail[c(4,6,7,18)], row.names=FALSE)\n",
    "}"
   ]
  },
  {
   "cell_type": "markdown",
   "metadata": {},
   "source": [
    "<details>\n",
    "<summary>Click here to view/hide hint</summary>\n",
    "<p>\n",
    "\n",
    "```\n",
    "# Fill in the ...\n",
    "for (table in ...){  \n",
    "        cat (\"\\n... info for table\", ..., \":\\n\")\n",
    "        col.detail <- sqlColumns(conn, ...)\n",
    "        print(col....[c(4,6,7,18)], row....=FALSE)\n",
    "}\n",
    "```\n",
    "\n",
    "</details>\n"
   ]
  },
  {
   "cell_type": "markdown",
   "metadata": {},
   "source": [
    "<details>\n",
    "<summary>Click here to view/hide solution</summary>\n",
    "<p>\n",
    "\n",
    "```\n",
    "for (table in tables){  \n",
    "        cat (\"\\nColumn info for table\", table, \":\\n\")\n",
    "        col.detail <- sqlColumns(conn, table)\n",
    "        print(col.detail[c(4,6,7,18)], row.names=FALSE)\n",
    "}\n",
    "```\n",
    "\n",
    "</details>\n"
   ]
  },
  {
   "cell_type": "markdown",
   "metadata": {},
   "source": [
    "install.packages(\"readxl\")\n",
    "library(readxl)\n",
    "Load the data from the board.csv into the BOARD dataframe.\n"
   ]
  },
  {
   "cell_type": "code",
   "execution_count": 13,
   "metadata": {},
   "outputs": [],
   "source": [
    "boarddf <- read.csv(\"/resources/data/samples/osb/board.csv\", header = FALSE)"
   ]
  },
  {
   "cell_type": "markdown",
   "metadata": {},
   "source": [
    "<details>\n",
    "<summary>Click here to view/hide hint</summary>\n",
    "<p>\n",
    "\n",
    "```\n",
    "# Fill in the ...\n",
    "board... <- ....csv(\"/resources/.../samples/.../board.csv\", header = ...)\n",
    "```\n",
    "\n",
    "</details>\n"
   ]
  },
  {
   "cell_type": "markdown",
   "metadata": {},
   "source": [
    "<details>\n",
    "<summary>Click here to view/hide solution</summary>\n",
    "<p>\n",
    "\n",
    "```\n",
    "boarddf <- read.csv(\"/resources/data/samples/osb/board.csv\", header = FALSE)\n",
    "```\n",
    "\n",
    "</details>\n"
   ]
  },
  {
   "cell_type": "markdown",
   "metadata": {},
   "source": [
    "Display initial data from the BOARD dataframe.\n"
   ]
  },
  {
   "cell_type": "code",
   "execution_count": 14,
   "metadata": {},
   "outputs": [
    {
     "data": {
      "text/html": [
       "<table>\n",
       "<caption>A data.frame: 6 × 4</caption>\n",
       "<thead>\n",
       "\t<tr><th></th><th scope=col>V1</th><th scope=col>V2</th><th scope=col>V3</th><th scope=col>V4</th></tr>\n",
       "\t<tr><th></th><th scope=col>&lt;fct&gt;</th><th scope=col>&lt;fct&gt;</th><th scope=col>&lt;fct&gt;</th><th scope=col>&lt;fct&gt;</th></tr>\n",
       "</thead>\n",
       "<tbody>\n",
       "\t<tr><th scope=row>1</th><td>B28010</td><td>Algoma DSB                  </td><td>Public        </td><td>English</td></tr>\n",
       "\t<tr><th scope=row>2</th><td>B67202</td><td>Algonquin and Lakeshore CDSB</td><td>Roman Catholic</td><td>English</td></tr>\n",
       "\t<tr><th scope=row>3</th><td>B66010</td><td>Avon Maitland DSB           </td><td>Public        </td><td>English</td></tr>\n",
       "\t<tr><th scope=row>4</th><td>B66001</td><td>Bluewater DSB               </td><td>Public        </td><td>English</td></tr>\n",
       "\t<tr><th scope=row>5</th><td>B67164</td><td>Brant Haldimand Norfolk CDSB</td><td>Roman Catholic</td><td>English</td></tr>\n",
       "\t<tr><th scope=row>6</th><td>B67008</td><td>Bruce-Grey CDSB             </td><td>Roman Catholic</td><td>English</td></tr>\n",
       "</tbody>\n",
       "</table>\n"
      ],
      "text/latex": [
       "A data.frame: 6 × 4\n",
       "\\begin{tabular}{r|llll}\n",
       "  & V1 & V2 & V3 & V4\\\\\n",
       "  & <fct> & <fct> & <fct> & <fct>\\\\\n",
       "\\hline\n",
       "\t1 & B28010 & Algoma DSB                   & Public         & English\\\\\n",
       "\t2 & B67202 & Algonquin and Lakeshore CDSB & Roman Catholic & English\\\\\n",
       "\t3 & B66010 & Avon Maitland DSB            & Public         & English\\\\\n",
       "\t4 & B66001 & Bluewater DSB                & Public         & English\\\\\n",
       "\t5 & B67164 & Brant Haldimand Norfolk CDSB & Roman Catholic & English\\\\\n",
       "\t6 & B67008 & Bruce-Grey CDSB              & Roman Catholic & English\\\\\n",
       "\\end{tabular}\n"
      ],
      "text/markdown": [
       "\n",
       "A data.frame: 6 × 4\n",
       "\n",
       "| <!--/--> | V1 &lt;fct&gt; | V2 &lt;fct&gt; | V3 &lt;fct&gt; | V4 &lt;fct&gt; |\n",
       "|---|---|---|---|---|\n",
       "| 1 | B28010 | Algoma DSB                   | Public         | English |\n",
       "| 2 | B67202 | Algonquin and Lakeshore CDSB | Roman Catholic | English |\n",
       "| 3 | B66010 | Avon Maitland DSB            | Public         | English |\n",
       "| 4 | B66001 | Bluewater DSB                | Public         | English |\n",
       "| 5 | B67164 | Brant Haldimand Norfolk CDSB | Roman Catholic | English |\n",
       "| 6 | B67008 | Bruce-Grey CDSB              | Roman Catholic | English |\n",
       "\n"
      ],
      "text/plain": [
       "  V1     V2                           V3             V4     \n",
       "1 B28010 Algoma DSB                   Public         English\n",
       "2 B67202 Algonquin and Lakeshore CDSB Roman Catholic English\n",
       "3 B66010 Avon Maitland DSB            Public         English\n",
       "4 B66001 Bluewater DSB                Public         English\n",
       "5 B67164 Brant Haldimand Norfolk CDSB Roman Catholic English\n",
       "6 B67008 Bruce-Grey CDSB              Roman Catholic English"
      ]
     },
     "metadata": {},
     "output_type": "display_data"
    }
   ],
   "source": [
    "head(boarddf)"
   ]
  },
  {
   "cell_type": "markdown",
   "metadata": {},
   "source": [
    "<details>\n",
    "<summary>Click here to view/hide hint</summary>\n",
    "<p>\n",
    "\n",
    "```\n",
    "# Fill in the ...\n",
    "...(board...)\n",
    "```\n",
    "\n",
    "</details>\n"
   ]
  },
  {
   "cell_type": "markdown",
   "metadata": {},
   "source": [
    "<details>\n",
    "<summary>Click here to view/hide solution</summary>\n",
    "<p>\n",
    "\n",
    "```\n",
    "head(boarddf)\n",
    "```\n",
    "\n",
    "</details>\n"
   ]
  },
  {
   "cell_type": "markdown",
   "metadata": {},
   "source": [
    "Save the dataframe to the database table BOARD.\n"
   ]
  },
  {
   "cell_type": "code",
   "execution_count": 15,
   "metadata": {},
   "outputs": [
    {
     "ename": "ERROR",
     "evalue": "Error in sqlSave(conn, boarddf, \"BOARD\", append = TRUE, fast = FALSE, : unable to append to table ‘BOARD’\n",
     "execution_count": 15,
     "output_type": "error",
     "traceback": [
      "Error in sqlSave(conn, boarddf, \"BOARD\", append = TRUE, fast = FALSE, : unable to append to table ‘BOARD’\nTraceback:\n",
      "1. sqlSave(conn, boarddf, \"BOARD\", append = TRUE, fast = FALSE, \n .     rownames = FALSE, colnames = FALSE, verbose = FALSE)",
      "2. stop(\"unable to append to table \", sQuote(tablename))"
     ]
    }
   ],
   "source": [
    "sqlSave(conn, boarddf, \"BOARD\", append=TRUE, fast=FALSE, rownames=FALSE, colnames=FALSE, verbose=FALSE)"
   ]
  },
  {
   "cell_type": "markdown",
   "metadata": {},
   "source": [
    "<details>\n",
    "<summary>Click here to view/hide hint</summary>\n",
    "<p>\n",
    "\n",
    "```\n",
    "# Fill in the ...\n",
    "sql...(conn, ...df, \"BOARD\", ...=TRUE, ...=FALSE, row...=FALSE, col...=FALSE)\n",
    "```\n",
    "\n",
    "</details>\n"
   ]
  },
  {
   "cell_type": "markdown",
   "metadata": {},
   "source": [
    "<details>\n",
    "<summary>Click here to view/hide solution</summary>\n",
    "<p>\n",
    "\n",
    "```\n",
    "sqlSave(conn, boarddf, \"BOARD\", append=TRUE, fast=FALSE, rownames=FALSE, colnames=FALSE, verbose=FALSE)\n",
    "```\n",
    "\n",
    "</details>\n"
   ]
  },
  {
   "cell_type": "markdown",
   "metadata": {},
   "source": [
    "Load the data from the school.csv into the SCHOOL dataframe\n"
   ]
  },
  {
   "cell_type": "code",
   "execution_count": 14,
   "metadata": {},
   "outputs": [
    {
     "name": "stderr",
     "output_type": "stream",
     "text": [
      "Warning message in file(file, \"rt\"):\n",
      "“cannot open file '/resources/data/samples/osb/school.csv': No such file or directory”"
     ]
    },
    {
     "ename": "ERROR",
     "evalue": "Error in file(file, \"rt\"): cannot open the connection\n",
     "execution_count": 14,
     "output_type": "error",
     "traceback": [
      "Error in file(file, \"rt\"): cannot open the connection\nTraceback:\n",
      "1. read.csv(\"/resources/data/samples/osb/school.csv\", header = FALSE)",
      "2. read.table(file = file, header = header, sep = sep, quote = quote, \n .     dec = dec, fill = fill, comment.char = comment.char, ...)",
      "3. file(file, \"rt\")"
     ]
    }
   ],
   "source": [
    "schooldf <- read.csv(\"/resources/data/samples/osb/school.csv\", header = FALSE)"
   ]
  },
  {
   "cell_type": "markdown",
   "metadata": {},
   "source": [
    "<details>\n",
    "<summary>Click here to view/hide hint</summary>\n",
    "<p>\n",
    "\n",
    "```\n",
    "# Fill in the ...\n",
    "school... <- ....csv(\"/resources/.../samples/osb/....csv\", ... = FALSE)\n",
    "```\n",
    "\n",
    "</details>\n"
   ]
  },
  {
   "cell_type": "markdown",
   "metadata": {},
   "source": [
    "<details>\n",
    "<summary>Click here to view/hide solution</summary>\n",
    "<p>\n",
    "\n",
    "```\n",
    "schooldf <- read.csv(\"/resources/data/samples/osb/school.csv\", header = FALSE)\n",
    "```\n",
    "\n",
    "</details>\n"
   ]
  },
  {
   "cell_type": "markdown",
   "metadata": {},
   "source": [
    "Display some records from the beginning of the SCHOOL dataframe.\n"
   ]
  },
  {
   "cell_type": "code",
   "execution_count": null,
   "metadata": {},
   "outputs": [],
   "source": []
  },
  {
   "cell_type": "markdown",
   "metadata": {},
   "source": [
    "<details>\n",
    "<summary>Click here to view/hide hint</summary>\n",
    "<p>\n",
    "\n",
    "```\n",
    "# Fill in the ...\n",
    "...(school...)\n",
    "```\n",
    "\n",
    "</details>\n"
   ]
  },
  {
   "cell_type": "markdown",
   "metadata": {},
   "source": [
    "<details>\n",
    "<summary>Click here to view/hide solution</summary>\n",
    "<p>\n",
    "\n",
    "```\n",
    "head(schooldf)\n",
    "```\n",
    "\n",
    "</details>\n"
   ]
  },
  {
   "cell_type": "markdown",
   "metadata": {},
   "source": [
    "Change the encoding of the 3rd column character vector from latin1 to ASCII//TRANSLIT\n"
   ]
  },
  {
   "cell_type": "code",
   "execution_count": null,
   "metadata": {},
   "outputs": [],
   "source": []
  },
  {
   "cell_type": "markdown",
   "metadata": {},
   "source": [
    "<details>\n",
    "<summary>Click here to view/hide hint</summary>\n",
    "<p>\n",
    "\n",
    "```\n",
    "# Fill in the ...\n",
    "...df$V3 <- i...(...df$V3, \"latin1\", \"ASCII//TRANSLIT\")\n",
    "```\n",
    "\n",
    "</details>\n"
   ]
  },
  {
   "cell_type": "markdown",
   "metadata": {},
   "source": [
    "<details>\n",
    "<summary>Click here to view/hide solution</summary>\n",
    "<p>\n",
    "\n",
    "```\n",
    "schooldf$V3 <- iconv(schooldf$V3, \"latin1\", \"ASCII//TRANSLIT\")\n",
    "```\n",
    "\n",
    "</details>\n"
   ]
  },
  {
   "cell_type": "markdown",
   "metadata": {},
   "source": [
    "Save the dataframe to the database table SCHOOL.\n"
   ]
  },
  {
   "cell_type": "code",
   "execution_count": null,
   "metadata": {},
   "outputs": [],
   "source": []
  },
  {
   "cell_type": "markdown",
   "metadata": {},
   "source": [
    "<details>\n",
    "<summary>Click here to view/hide hint</summary>\n",
    "<p>\n",
    "\n",
    "```\n",
    "# Fill in the ...\n",
    "sql...(conn, school..., \"SCHOOL\", append=..., fast=..., row...=FALSE, col...=FALSE)\n",
    "```\n",
    "\n",
    "</details>\n"
   ]
  },
  {
   "cell_type": "markdown",
   "metadata": {},
   "source": [
    "<details>\n",
    "<summary>Click here to view/hide solution</summary>\n",
    "<p>\n",
    "\n",
    "```\n",
    "#NOTE: This may take a long time because of the large size of the database. When there is lot of data to insert in the database it may be faster to use the native LOAD utility of the database instead of through R.\n",
    "\n",
    "sqlSave(conn, schooldf, \"SCHOOL\", append=TRUE, fast=FALSE, rownames=FALSE, colnames=FALSE, verbose=FALSE)\n",
    "```\n",
    "\n",
    "</details>\n"
   ]
  },
  {
   "cell_type": "markdown",
   "metadata": {},
   "source": [
    "<a id=\"ref4h\"></a>\n",
    "\n",
    "### h. Fetch data from the database\n"
   ]
  },
  {
   "cell_type": "markdown",
   "metadata": {},
   "source": [
    "Fetch the data from the database table BOARD and display some rows from the end of the data.\n"
   ]
  },
  {
   "cell_type": "code",
   "execution_count": 21,
   "metadata": {},
   "outputs": [
    {
     "data": {
      "text/html": [
       "<table>\n",
       "<caption>A data.frame: 0 × 4</caption>\n",
       "<thead>\n",
       "\t<tr><th scope=col>B_ID</th><th scope=col>B_NAME</th><th scope=col>TYPE</th><th scope=col>LANGUAGE</th></tr>\n",
       "\t<tr><th scope=col>&lt;chr&gt;</th><th scope=col>&lt;chr&gt;</th><th scope=col>&lt;chr&gt;</th><th scope=col>&lt;chr&gt;</th></tr>\n",
       "</thead>\n",
       "<tbody>\n",
       "</tbody>\n",
       "</table>\n"
      ],
      "text/latex": [
       "A data.frame: 0 × 4\n",
       "\\begin{tabular}{llll}\n",
       " B\\_ID & B\\_NAME & TYPE & LANGUAGE\\\\\n",
       " <chr> & <chr> & <chr> & <chr>\\\\\n",
       "\\hline\n",
       "\\end{tabular}\n"
      ],
      "text/markdown": [
       "\n",
       "A data.frame: 0 × 4\n",
       "\n",
       "| B_ID &lt;chr&gt; | B_NAME &lt;chr&gt; | TYPE &lt;chr&gt; | LANGUAGE &lt;chr&gt; |\n",
       "|---|---|---|---|\n",
       "\n"
      ],
      "text/plain": [
       "     B_ID B_NAME TYPE LANGUAGE"
      ]
     },
     "metadata": {},
     "output_type": "display_data"
    }
   ],
   "source": [
    "boarddb <- sqlFetch(conn, \"BOARD\")\n",
    "tail(boarddb)"
   ]
  },
  {
   "cell_type": "markdown",
   "metadata": {},
   "source": [
    "<details>\n",
    "<summary>Click here to view/hide hint</summary>\n",
    "<p>\n",
    "\n",
    "```\n",
    "# Fill in the ...\n",
    "...db <- sql...(conn, \"...\")\n",
    "...(board...)\n",
    "```\n",
    "\n",
    "</details>\n"
   ]
  },
  {
   "cell_type": "markdown",
   "metadata": {},
   "source": [
    "<details>\n",
    "<summary>Click here to view/hide solution</summary>\n",
    "<p>\n",
    "\n",
    "```\n",
    "boarddb <- sqlFetch(conn, \"BOARD\")\n",
    "tail(boarddb)\n",
    "```\n",
    "\n",
    "</details>\n"
   ]
  },
  {
   "cell_type": "markdown",
   "metadata": {},
   "source": [
    "Fetch the data from the database table SCHOOL and and display some rows from the end of the data.\n"
   ]
  },
  {
   "cell_type": "code",
   "execution_count": null,
   "metadata": {},
   "outputs": [],
   "source": []
  },
  {
   "cell_type": "markdown",
   "metadata": {},
   "source": [
    "<details>\n",
    "<summary>Click here to view/hide hint</summary>\n",
    "<p>\n",
    "\n",
    "```\n",
    "# Fill in the ...\n",
    "...db <- sql...(conn, \"...\")\n",
    "tail(...db)\n",
    "```\n",
    "\n",
    "</details>\n"
   ]
  },
  {
   "cell_type": "markdown",
   "metadata": {},
   "source": [
    "<details>\n",
    "<summary>Click here to view/hide solution</summary>\n",
    "<p>\n",
    "\n",
    "```\n",
    "schooldb <- sqlFetch(conn, \"SCHOOL\")\n",
    "tail(schooldb)\n",
    "```\n",
    "\n",
    "</details>\n"
   ]
  },
  {
   "cell_type": "markdown",
   "metadata": {},
   "source": [
    "<a id=\"ref4i\"></a>\n",
    "\n",
    "### i. Plot the data (using ggplot2)\n"
   ]
  },
  {
   "cell_type": "code",
   "execution_count": null,
   "metadata": {},
   "outputs": [],
   "source": []
  },
  {
   "cell_type": "markdown",
   "metadata": {},
   "source": [
    "<details>\n",
    "<summary>Click here to view/hide hint</summary>\n",
    "<p>\n",
    "\n",
    "```\n",
    "# Fill in the ...\n",
    "...(gg...2);\n",
    "```\n",
    "\n",
    "</details>\n"
   ]
  },
  {
   "cell_type": "markdown",
   "metadata": {},
   "source": [
    "<details>\n",
    "<summary>Click here to view/hide solution</summary>\n",
    "<p>\n",
    "\n",
    "```\n",
    "library(ggplot2);\n",
    "```\n",
    "\n",
    "</details>\n"
   ]
  },
  {
   "cell_type": "markdown",
   "metadata": {},
   "source": [
    "Get the elementary school data from the database from both tables in descending sequence.\n"
   ]
  },
  {
   "cell_type": "code",
   "execution_count": null,
   "metadata": {},
   "outputs": [],
   "source": []
  },
  {
   "cell_type": "markdown",
   "metadata": {},
   "source": [
    "<details>\n",
    "<summary>Click here to view/hide hint</summary>\n",
    "<p>\n",
    "\n",
    "```\n",
    "# Fill in the ...\n",
    "...query <- ... <- paste(\"... s.enrollment as ... \n",
    "from ... s, ... b \n",
    "where b.b_... = 'Toronto DSB' and b.b_id=s.... \n",
    "and ....level = 'Elementary' \n",
    "order by ... desc\")\n",
    "```\n",
    "\n",
    "</details>\n"
   ]
  },
  {
   "cell_type": "markdown",
   "metadata": {},
   "source": [
    "<details>\n",
    "<summary>Click here to view/hide solution</summary>\n",
    "<p>\n",
    "\n",
    "```\n",
    "elequery <- query <- paste(\"select s.enrollment as ENROLLMENT \n",
    "from school s, board b \n",
    "where b.b_name = 'Toronto DSB' and b.b_id=s.b_id \n",
    "and s.level = 'Elementary' \n",
    "order by enrollment desc\")\n",
    "```\n",
    "\n",
    "</details>\n"
   ]
  },
  {
   "cell_type": "markdown",
   "metadata": {},
   "source": [
    "create the elementary school dataframe.\n"
   ]
  },
  {
   "cell_type": "code",
   "execution_count": null,
   "metadata": {},
   "outputs": [],
   "source": []
  },
  {
   "cell_type": "markdown",
   "metadata": {},
   "source": [
    "<details>\n",
    "<summary>Click here to view/hide hint</summary>\n",
    "<p>\n",
    "\n",
    "```\n",
    "# Fill in the ...\n",
    "ele... <- sql...(conn, ...query)\n",
    "dim(...df)\n",
    "```\n",
    "\n",
    "</details>\n"
   ]
  },
  {
   "cell_type": "markdown",
   "metadata": {},
   "source": [
    "<details>\n",
    "<summary>Click here to view/hide solution</summary>\n",
    "<p>\n",
    "\n",
    "```\n",
    "eledf <- sqlQuery(conn, elequery)\n",
    "dim(eledf)\n",
    "```\n",
    "\n",
    "</details>\n"
   ]
  },
  {
   "cell_type": "markdown",
   "metadata": {},
   "source": [
    "Create a density plot of elementary school enrollments.\n"
   ]
  },
  {
   "cell_type": "code",
   "execution_count": null,
   "metadata": {},
   "outputs": [],
   "source": []
  },
  {
   "cell_type": "markdown",
   "metadata": {},
   "source": [
    "<details>\n",
    "<summary>Click here to view/hide hint</summary>\n",
    "<p>\n",
    "\n",
    "```\n",
    "# Fill in the ...\n",
    "q...(ENROLLMENT, ...=eledf, ...=\"density\",  ...=\"TDSB School Size - ...\")\n",
    "```\n",
    "\n",
    "</details>\n"
   ]
  },
  {
   "cell_type": "markdown",
   "metadata": {},
   "source": [
    "<details>\n",
    "<summary>Click here to view/hide solution</summary>\n",
    "<p>\n",
    "\n",
    "```\n",
    "qplot(ENROLLMENT, data=eledf, geom=\"density\",  main=\"TDSB School Size - Elementary\")\n",
    "```\n",
    "\n",
    "</details>\n"
   ]
  },
  {
   "cell_type": "markdown",
   "metadata": {},
   "source": [
    "Create the secondary school enrollments query in descending sequence.\n"
   ]
  },
  {
   "cell_type": "code",
   "execution_count": null,
   "metadata": {},
   "outputs": [],
   "source": []
  },
  {
   "cell_type": "markdown",
   "metadata": {},
   "source": [
    "<details>\n",
    "<summary>Click here to view/hide hint</summary>\n",
    "<p>\n",
    "\n",
    "```\n",
    "# Fill in the ...\n",
    "sec... <- paste(\"... s.enrollment as ... \n",
    "from ... s, board b \n",
    "where b.b_... = 'Toronto ...' and b.b_id=s.... \n",
    "and s.... = 'Secondary' \n",
    "order by ... desc\")\n",
    "```\n",
    "\n",
    "</details>\n"
   ]
  },
  {
   "cell_type": "markdown",
   "metadata": {},
   "source": [
    "<details>\n",
    "<summary>Click here to view/hide solution</summary>\n",
    "<p>\n",
    "\n",
    "```\n",
    "secquery <- paste(\"select s.enrollment as ENROLLMENT \n",
    "from school s, board b \n",
    "where b.b_name = 'Toronto DSB' and b.b_id=s.b_id \n",
    "and s.level = 'Secondary' \n",
    "order by enrollment desc\")\n",
    "```\n",
    "\n",
    "</details>\n"
   ]
  },
  {
   "cell_type": "markdown",
   "metadata": {},
   "source": [
    "Create the dataframe using the data in the database.\n"
   ]
  },
  {
   "cell_type": "code",
   "execution_count": null,
   "metadata": {},
   "outputs": [],
   "source": []
  },
  {
   "cell_type": "markdown",
   "metadata": {},
   "source": [
    "<details>\n",
    "<summary>Click here to view/hide hint</summary>\n",
    "<p>\n",
    "\n",
    "```\n",
    "# Fill in the ...\n",
    "secdf <- sql...(conn, sec...)\n",
    "```\n",
    "\n",
    "</details>\n"
   ]
  },
  {
   "cell_type": "markdown",
   "metadata": {},
   "source": [
    "<details>\n",
    "<summary>Click here to view/hide solution</summary>\n",
    "<p>\n",
    "\n",
    "```\n",
    "secdf <- sqlQuery(conn, secquery)\n",
    "```\n",
    "\n",
    "</details>\n"
   ]
  },
  {
   "cell_type": "markdown",
   "metadata": {},
   "source": [
    "Create a density plot of secondary school enrollments.\n"
   ]
  },
  {
   "cell_type": "code",
   "execution_count": null,
   "metadata": {},
   "outputs": [],
   "source": []
  },
  {
   "cell_type": "markdown",
   "metadata": {},
   "source": [
    "<details>\n",
    "<summary>Click here to view/hide hint</summary>\n",
    "<p>\n",
    "\n",
    "```\n",
    "# Fill in the ...\n",
    "q...(ENROLLMENT, ...=secdf, ...=\"density\", ...=\"TDSB School Size - ...\")\n",
    "```\n",
    "\n",
    "</details>\n"
   ]
  },
  {
   "cell_type": "markdown",
   "metadata": {},
   "source": [
    "<details>\n",
    "<summary>Click here to view/hide solution</summary>\n",
    "<p>\n",
    "\n",
    "```\n",
    "qplot(ENROLLMENT, data=secdf, geom=\"density\", main=\"TDSB School Size - Secondary\")\n",
    "```\n",
    "\n",
    "</details>\n"
   ]
  },
  {
   "cell_type": "markdown",
   "metadata": {},
   "source": [
    "Query the BOARD database for enrollments.\n"
   ]
  },
  {
   "cell_type": "code",
   "execution_count": null,
   "metadata": {},
   "outputs": [],
   "source": []
  },
  {
   "cell_type": "markdown",
   "metadata": {},
   "source": [
    "<details>\n",
    "<summary>Click here to view/hide hint</summary>\n",
    "<p>\n",
    "\n",
    "```\n",
    "# Fill in the ...\n",
    "den... <- paste(\"select b.b_..., s.s_..., level as ..., ... \n",
    " from board b, ... s where b.... = s.b_id and b.b_... = 'Toronto DSB'\")\n",
    "```\n",
    "\n",
    "</details>\n"
   ]
  },
  {
   "cell_type": "markdown",
   "metadata": {},
   "source": [
    "<details>\n",
    "<summary>Click here to view/hide solution</summary>\n",
    "<p>\n",
    "\n",
    "```\n",
    "denquery <- paste(\"select b.b_name, s.s_name, level as LEVEL, enrollment \n",
    " from board b, school s where b.b_id = s.b_id and b.b_name = 'Toronto DSB'\")\n",
    "```\n",
    "\n",
    "</details>\n"
   ]
  },
  {
   "cell_type": "markdown",
   "metadata": {},
   "source": [
    "Query the database.\n"
   ]
  },
  {
   "cell_type": "code",
   "execution_count": null,
   "metadata": {},
   "outputs": [],
   "source": []
  },
  {
   "cell_type": "markdown",
   "metadata": {},
   "source": [
    "<details>\n",
    "<summary>Click here to view/hide hint</summary>\n",
    "<p>\n",
    "\n",
    "```\n",
    "# Fill in the ...\n",
    "d...f <- sql...(conn, den...)\n",
    "```\n",
    "\n",
    "</details>\n"
   ]
  },
  {
   "cell_type": "markdown",
   "metadata": {},
   "source": [
    "<details>\n",
    "<summary>Click here to view/hide solution</summary>\n",
    "<p>\n",
    "\n",
    "```\n",
    "dendf <- sqlQuery(conn, denquery)\n",
    "```\n",
    "\n",
    "</details>\n"
   ]
  },
  {
   "cell_type": "markdown",
   "metadata": {},
   "source": [
    "Create a box plot of enrollements in elementary and secondary schools in Toronto.\n"
   ]
  },
  {
   "cell_type": "code",
   "execution_count": null,
   "metadata": {},
   "outputs": [],
   "source": []
  },
  {
   "cell_type": "markdown",
   "metadata": {},
   "source": [
    "<details>\n",
    "<summary>Click here to view/hide hint</summary>\n",
    "<p>\n",
    "\n",
    "```\n",
    "# Fill in the ...\n",
    "d...f$LEVEL <- as....(d...f$LEVEL)\n",
    "box...(ENROLLMENT ~ ..., d...f, names =c(\"...\",\"...\"), ...=\"Toronto DSB\")\n",
    "```\n",
    "\n",
    "</details>\n"
   ]
  },
  {
   "cell_type": "markdown",
   "metadata": {},
   "source": [
    "<details>\n",
    "<summary>Click here to view/hide solution</summary>\n",
    "<p>\n",
    "\n",
    "```\n",
    "dendf$LEVEL <- as.factor(dendf$LEVEL)\n",
    "boxplot(ENROLLMENT ~ LEVEL, dendf, names =c(\"Secondary\",\"Elementary\"), main=\"Toronto DSB\")\n",
    "```\n",
    "\n",
    "</details>\n"
   ]
  },
  {
   "cell_type": "markdown",
   "metadata": {},
   "source": [
    "<a id=\"ref4j\"></a>\n",
    "\n",
    "### j. Dis-connect\n",
    "\n",
    "Finally, as a best practice we should close the database connection once we're done with it.\n"
   ]
  },
  {
   "cell_type": "code",
   "execution_count": null,
   "metadata": {},
   "outputs": [],
   "source": []
  },
  {
   "cell_type": "markdown",
   "metadata": {},
   "source": [
    "<details>\n",
    "<summary>Click here to view/hide hint</summary>\n",
    "<p>\n",
    "\n",
    "```\n",
    "# Fill in the ...\n",
    "...(conn)\n",
    "```\n",
    "\n",
    "</details>\n"
   ]
  },
  {
   "cell_type": "markdown",
   "metadata": {},
   "source": [
    "<details>\n",
    "<summary>Click here to view/hide solution</summary>\n",
    "<p>\n",
    "\n",
    "```\n",
    "close(conn)\n",
    "```\n",
    "\n",
    "</details>\n"
   ]
  },
  {
   "cell_type": "markdown",
   "metadata": {},
   "source": [
    "<a id=\"ref4o\"></a>\n",
    "\n",
    "### Summary\n"
   ]
  },
  {
   "cell_type": "markdown",
   "metadata": {},
   "source": [
    "In this lab you created and queried database objects from an R notebook in Jupyter, and you used ggplot2 to plot the data using R libraries.\n"
   ]
  },
  {
   "cell_type": "markdown",
   "metadata": {},
   "source": [
    "<hr>\n"
   ]
  },
  {
   "cell_type": "markdown",
   "metadata": {},
   "source": [
    "#### Thank you for completing this module on creating and querying database objects from R.\n"
   ]
  },
  {
   "cell_type": "markdown",
   "metadata": {},
   "source": [
    "<hr>\n",
    "\n",
    "## Authors\n",
    "\n",
    "*   [Rav Ahuja](https://ca.linkedin.com/in/rav-ahuja-8aa4562a?utm_medium=Exinfluencer\\&utm_source=Exinfluencer\\&utm_content=000026UJ\\&utm_term=10006555\\&utm_id=NA-SkillsNetwork-Channel-SkillsNetworkCoursesIBMDeveloperSkillsNetworkRP0103ENSkillsNetwork23619267-2021-01-01\\&cm_mmc=Email_Newsletter-\\_-Developer_Ed%2BTech-\\_-WW_WW-\\_-SkillsNetwork-Courses-IBMDeveloperSkillsNetwork-RP0103EN-SkillsNetwork-23619267\\&cm_mmca1=000026UJ\\&cm_mmca2=10006555\\&cm_mmca3=M12345678\\&cvosrc=email.Newsletter.M12345678\\&cvo_campaign=000026UJ)\n",
    "*   [Agatha Colangelo](https://www.linkedin.com/in/agathacolangelo?utm_medium=Exinfluencer\\&utm_source=Exinfluencer\\&utm_content=000026UJ\\&utm_term=10006555\\&utm_id=NA-SkillsNetwork-Channel-SkillsNetworkCoursesIBMDeveloperSkillsNetworkRP0103ENSkillsNetwork23619267-2021-01-01\\&cm_mmc=Email_Newsletter-\\_-Developer_Ed%2BTech-\\_-WW_WW-\\_-SkillsNetwork-Courses-IBMDeveloperSkillsNetwork-RP0103EN-SkillsNetwork-23619267\\&cm_mmca1=000026UJ\\&cm_mmca2=10006555\\&cm_mmca3=M12345678\\&cvosrc=email.Newsletter.M12345678\\&cvo_campaign=000026UJ)\n",
    "*   [Sandip Saha Joy](https://www.linkedin.com/in/sandipsahajoy?utm_medium=Exinfluencer\\&utm_source=Exinfluencer\\&utm_content=000026UJ\\&utm_term=10006555\\&utm_id=NA-SkillsNetwork-Channel-SkillsNetworkCoursesIBMDeveloperSkillsNetworkRP0103ENSkillsNetwork23619267-2021-01-01\\&cm_mmc=Email_Newsletter-\\_-Developer_Ed%2BTech-\\_-WW_WW-\\_-SkillsNetwork-Courses-IBMDeveloperSkillsNetwork-RP0103EN-SkillsNetwork-23619267\\&cm_mmca1=000026UJ\\&cm_mmca2=10006555\\&cm_mmca3=M12345678\\&cvosrc=email.Newsletter.M12345678\\&cvo_campaign=000026UJ)\n",
    "\n",
    "## Changelog\n",
    "\n",
    "| Date (YYYY-MM-DD) | Version | Changed By                   | Change Description                 |\n",
    "| ----------------- | ------- | ---------------------------- | ---------------------------------- |\n",
    "| 2021-07-14        | 2.1    | Lakshmi Holla            | Added ssl changes |\n",
    "| 2021-01-22        | 2.0     | Sandip Saha Joy              | Created revised version of the lab |\n",
    "| 2017              | 1.0     | Rav Ahuja & Agatha Colangelo | Created initial version of the lab |\n",
    "\n",
    "<hr>\n",
    "\n",
    "<h2 align=center><font size = 5>Copyright &copy; IBM Corporation 2017-2021. All rights reserved.</h2>\n"
   ]
  }
 ],
 "metadata": {
  "kernelspec": {
   "display_name": "R",
   "language": "R",
   "name": "conda-env-r-r"
  },
  "language_info": {
   "codemirror_mode": "r",
   "file_extension": ".r",
   "mimetype": "text/x-r-source",
   "name": "R",
   "pygments_lexer": "r",
   "version": "3.5.1"
  },
  "widgets": {
   "state": {},
   "version": "1.1.2"
  }
 },
 "nbformat": 4,
 "nbformat_minor": 4
}
